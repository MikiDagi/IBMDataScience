{
 "cells": [
  {
   "cell_type": "markdown",
   "metadata": {},
   "source": [
    "# Data Science Tools And Ecosystem"
   ]
  },
  {
   "attachments": {},
   "cell_type": "markdown",
   "metadata": {},
   "source": [
    "### In this notebook, data science tools and languages will be summurized.\n",
    "***objectives:-***\n",
    "- data science tools\n",
    "- data science languages\n",
    "- arithmetic operations\n",
    "- minutes t0 hour coversion"
   ]
  },
  {
   "attachments": {},
   "cell_type": "markdown",
   "metadata": {},
   "source": [
    "#### below are some of data science languages \n",
    "\n",
    "1. Python\n",
    "2. R\n",
    "3. C++\n",
    "4. Java script\n",
    "5. Java\n",
    " "
   ]
  },
  {
   "attachments": {},
   "cell_type": "markdown",
   "metadata": {},
   "source": [
    "#### Below are some of data science libraries\n",
    "\n",
    "1. panda\n",
    "2. numpy\n",
    "3. matplotlib\n",
    "4. scipy\n",
    "5. keras\n",
    "6. pytorch (deep learning)\n",
    "7. seaborn"
   ]
  },
  {
   "attachments": {},
   "cell_type": "markdown",
   "metadata": {},
   "source": [
    "### Below are some data science tools"
   ]
  },
  {
   "attachments": {},
   "cell_type": "markdown",
   "metadata": {},
   "source": [
    "| Data Science Tools |\n",
    "| -------------------------------- |\n",
    "| jupyter notebook and jupyter Lab |\n",
    "| Spyder |\n",
    "| R studio |\n",
    "| Scala |\n",
    "| Julia |\n"
   ]
  },
  {
   "attachments": {},
   "cell_type": "markdown",
   "metadata": {},
   "source": [
    "### evaluating basic arithmethic expressions "
   ]
  },
  {
   "cell_type": "code",
   "execution_count": 1,
   "metadata": {},
   "outputs": [
    {
     "data": {
      "text/plain": [
       "72"
      ]
     },
     "execution_count": 1,
     "metadata": {},
     "output_type": "execute_result"
    }
   ],
   "source": [
    "(3+6)*8 "
   ]
  },
  {
   "attachments": {},
   "cell_type": "markdown",
   "metadata": {},
   "source": [
    "### Multiplying and adding numbers "
   ]
  },
  {
   "cell_type": "code",
   "execution_count": 2,
   "metadata": {},
   "outputs": [
    {
     "data": {
      "text/plain": [
       "22"
      ]
     },
     "execution_count": 2,
     "metadata": {},
     "output_type": "execute_result"
    }
   ],
   "source": [
    "(4*4) + 6"
   ]
  },
  {
   "attachments": {},
   "cell_type": "markdown",
   "metadata": {},
   "source": [
    "### converting muniute to hour "
   ]
  },
  {
   "cell_type": "code",
   "execution_count": 5,
   "metadata": {},
   "outputs": [
    {
     "name": "stdout",
     "output_type": "stream",
     "text": [
      "The input value in minuit is: 319.0\n",
      "converted hour is: 5 hours and 19.0 minuits\n"
     ]
    }
   ],
   "source": [
    "mint= float(input(\"enter the minuits took?\"))\n",
    "hours=int(mint//60)\n",
    "minuits=mint%60\n",
    "print(\"The input value in minuit is:\", mint)\n",
    "print(\"converted hour is:\",hours, \"hours and\", minuits,\"minuits\")"
   ]
  },
  {
   "attachments": {},
   "cell_type": "markdown",
   "metadata": {},
   "source": [
    "## Author\n",
    "Mikias Dagem"
   ]
  }
 ],
 "metadata": {
  "kernelspec": {
   "display_name": "Python 3",
   "language": "python",
   "name": "python3"
  },
  "language_info": {
   "codemirror_mode": {
    "name": "ipython",
    "version": 3
   },
   "file_extension": ".py",
   "mimetype": "text/x-python",
   "name": "python",
   "nbconvert_exporter": "python",
   "pygments_lexer": "ipython3",
   "version": "3.10.11"
  },
  "orig_nbformat": 4
 },
 "nbformat": 4,
 "nbformat_minor": 2
}
